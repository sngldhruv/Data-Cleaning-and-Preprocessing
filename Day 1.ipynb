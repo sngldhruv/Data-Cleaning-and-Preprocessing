{
 "cells": [
  {
   "cell_type": "code",
   "execution_count": 22,
   "id": "0d4b6c2f-cf2c-4052-83be-1b81d35d7ce5",
   "metadata": {},
   "outputs": [],
   "source": [
    "import pandas as pd\n",
    "df = pd.read_csv(r'C:\\Users\\Mukesh Kumar\\Downloads\\Netflix_movies_and_tv_shows_clustering.csv')\n",
    "\n"
   ]
  },
  {
   "cell_type": "code",
   "execution_count": 24,
   "id": "a24ee5d6-d0c0-4df0-b29b-4af8bc8216d1",
   "metadata": {},
   "outputs": [],
   "source": [
    "df_cleaned = df.drop_duplicates()"
   ]
  },
  {
   "cell_type": "code",
   "execution_count": 26,
   "id": "e97db5c0-406a-4601-877c-c52ac73bee34",
   "metadata": {},
   "outputs": [],
   "source": [
    "df_cleaned.columns = [col.strip().lower().replace(\" \", \"_\") for col in df_cleaned.columns]"
   ]
  },
  {
   "cell_type": "code",
   "execution_count": 32,
   "id": "9eea87d8-3088-4707-a8ac-46596c0d0fdb",
   "metadata": {},
   "outputs": [],
   "source": [
    "df_cleaned['date_added'] = pd.to_datetime(df_cleaned['date_added'], errors='coerce')"
   ]
  },
  {
   "cell_type": "code",
   "execution_count": 34,
   "id": "bedcfc28-b839-48da-9f13-ffe621b18308",
   "metadata": {},
   "outputs": [],
   "source": [
    "df_cleaned['director'] = df_cleaned['director'].fillna('Unknown')\n",
    "df_cleaned['cast'] = df_cleaned['cast'].fillna('Unknown')\n",
    "df_cleaned['country'] = df_cleaned['country'].fillna('Unknown')"
   ]
  },
  {
   "cell_type": "code",
   "execution_count": 36,
   "id": "e070638a-aa51-465a-9d9a-dba38f29a9d6",
   "metadata": {},
   "outputs": [],
   "source": [
    "df_cleaned['rating'] = df_cleaned['rating'].fillna(df_cleaned['rating'].mode()[0])"
   ]
  },
  {
   "cell_type": "code",
   "execution_count": 38,
   "id": "78dbf7e1-8764-4720-94b2-9532497023e0",
   "metadata": {},
   "outputs": [],
   "source": [
    "df_cleaned = df_cleaned.dropna(subset=['date_added'])"
   ]
  },
  {
   "cell_type": "code",
   "execution_count": 40,
   "id": "1fe17c5d-b2c0-4063-801a-7458902f10de",
   "metadata": {},
   "outputs": [],
   "source": [
    "df_cleaned['type'] = df_cleaned['type'].str.title()\n",
    "df_cleaned['country'] = df_cleaned['country'].str.title()\n",
    "df_cleaned['rating'] = df_cleaned['rating'].str.upper()"
   ]
  },
  {
   "cell_type": "code",
   "execution_count": 42,
   "id": "e5b35de1-f830-4169-af2e-a639e84957c9",
   "metadata": {},
   "outputs": [],
   "source": [
    "df_cleaned.to_csv(r'C:\\Users\\Mukesh Kumar\\Downloads\\netflix_movies_and_tv_shows_cleaned.csv', index=False)"
   ]
  },
  {
   "cell_type": "code",
   "execution_count": null,
   "id": "2814d0af-8bb0-4d86-ba1d-57e6a86d1524",
   "metadata": {},
   "outputs": [],
   "source": []
  }
 ],
 "metadata": {
  "kernelspec": {
   "display_name": "Python 3 (ipykernel)",
   "language": "python",
   "name": "python3"
  },
  "language_info": {
   "codemirror_mode": {
    "name": "ipython",
    "version": 3
   },
   "file_extension": ".py",
   "mimetype": "text/x-python",
   "name": "python",
   "nbconvert_exporter": "python",
   "pygments_lexer": "ipython3",
   "version": "3.12.4"
  }
 },
 "nbformat": 4,
 "nbformat_minor": 5
}
